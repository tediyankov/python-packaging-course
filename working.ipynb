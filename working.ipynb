{
 "cells": [
  {
   "cell_type": "code",
   "execution_count": 14,
   "id": "644cff9d",
   "metadata": {},
   "outputs": [],
   "source": [
    "import sys\n",
    "import os\n",
    "sys.path.append(os.path.join(os.getcwd(), 'course/analysis1'))"
   ]
  },
  {
   "cell_type": "code",
   "execution_count": 15,
   "id": "7a8b5b04",
   "metadata": {},
   "outputs": [
    {
     "data": {
      "image/png": "[encoded data removed]",
      "text/plain": [
       "<Figure size 640x480 with 1 Axes>"
      ]
     },
     "metadata": {},
     "output_type": "display_data"
    }
   ],
   "source": [
    "import numpy as np\n",
    "\n",
    "import tstools.moments\n",
    "from tstools.vis import plot_histogram\n",
    "\n",
    "timeseries = np.genfromtxt(\"course/analysis1/data/brownian.csv\", delimiter=\",\")\n",
    "\n",
    "mean, var = tstools.moments.get_mean_and_var(timeseries)\n",
    "fig, ax = tstools.vis.plot_histogram(timeseries)"
   ]
  },
  {
   "cell_type": "code",
   "execution_count": 18,
   "id": "a173b7f8",
   "metadata": {},
   "outputs": [
    {
     "ename": "AttributeError",
     "evalue": "module 'tstools' has no attribute 'get_mean_and_var'",
     "output_type": "error",
     "traceback": [
      "\u001b[0;31m---------------------------------------------------------------------------\u001b[0m",
      "\u001b[0;31mAttributeError\u001b[0m                            Traceback (most recent call last)",
      "Cell \u001b[0;32mIn[18], line 3\u001b[0m\n\u001b[1;32m      1\u001b[0m \u001b[38;5;28;01mimport\u001b[39;00m \u001b[38;5;21;01mtstools\u001b[39;00m\n\u001b[1;32m      2\u001b[0m timeseries \u001b[38;5;241m=\u001b[39m np\u001b[38;5;241m.\u001b[39mgenfromtxt(\u001b[38;5;124m\"\u001b[39m\u001b[38;5;124mcourse/analysis1/data/brownian.csv\u001b[39m\u001b[38;5;124m\"\u001b[39m, delimiter\u001b[38;5;241m=\u001b[39m\u001b[38;5;124m\"\u001b[39m\u001b[38;5;124m,\u001b[39m\u001b[38;5;124m\"\u001b[39m)\n\u001b[0;32m----> 3\u001b[0m mean, var \u001b[38;5;241m=\u001b[39m tstools\u001b[38;5;241m.\u001b[39mget_mean_and_var(timeseries)\n",
      "\u001b[0;31mAttributeError\u001b[0m: module 'tstools' has no attribute 'get_mean_and_var'"
     ]
    }
   ],
   "source": [
    "import tstools\n",
    "timeseries = np.genfromtxt(\"course/analysis1/data/brownian.csv\", delimiter=\",\")\n",
    "mean, var = tstools.get_mean_and_var(timeseries)"
   ]
  }
 ],
 "metadata": {
  "kernelspec": {
   "display_name": "base",
   "language": "python",
   "name": "python3"
  },
  "language_info": {
   "codemirror_mode": {
    "name": "ipython",
    "version": 3
   },
   "file_extension": ".py",
   "mimetype": "text/x-python",
   "name": "python",
   "nbconvert_exporter": "python",
   "pygments_lexer": "ipython3",
   "version": "3.11.7"
  }
 },
 "nbformat": 4,
 "nbformat_minor": 5
}
